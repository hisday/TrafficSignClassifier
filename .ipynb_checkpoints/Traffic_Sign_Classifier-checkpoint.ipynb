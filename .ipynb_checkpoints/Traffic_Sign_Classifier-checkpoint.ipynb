{
 "cells": [
  {
   "cell_type": "markdown",
   "metadata": {},
   "source": [
    "# Self-Driving Car Engineer Nanodegree\n",
    "\n",
    "## Deep Learning\n",
    "\n",
    "## Project: Build a Traffic Sign Recognition Classifier\n",
    "\n",
    "In this notebook, a template is provided for you to implement your functionality in stages, which is required to successfully complete this project. If additional code is required that cannot be included in the notebook, be sure that the Python code is successfully imported and included in your submission if necessary. \n",
    "\n",
    "> **Note**: Once you have completed all of the code implementations, you need to finalize your work by exporting the iPython Notebook as an HTML document. Before exporting the notebook to html, all of the code cells need to have been run so that reviewers can see the final implementation and output. You can then export the notebook by using the menu above and navigating to  \\n\",\n",
    "    \"**File -> Download as -> HTML (.html)**. Include the finished document along with this notebook as your submission. \n",
    "\n",
    "In addition to implementing code, there is a writeup to complete. The writeup should be completed in a separate file, which can be either a markdown file or a pdf document. There is a [write up template](https://github.com/udacity/CarND-Traffic-Sign-Classifier-Project/blob/master/writeup_template.md) that can be used to guide the writing process. Completing the code template and writeup template will cover all of the [rubric points](https://review.udacity.com/#!/rubrics/481/view) for this project.\n",
    "\n",
    "The [rubric](https://review.udacity.com/#!/rubrics/481/view) contains \"Stand Out Suggestions\" for enhancing the project beyond the minimum requirements. The stand out suggestions are optional. If you decide to pursue the \"stand out suggestions\", you can include the code in this Ipython notebook and also discuss the results in the writeup file.\n",
    "\n",
    "\n",
    ">**Note:** Code and Markdown cells can be executed using the **Shift + Enter** keyboard shortcut. In addition, Markdown cells can be edited by typically double-clicking the cell to enter edit mode."
   ]
  },
  {
   "cell_type": "markdown",
   "metadata": {},
   "source": [
    "---\n",
    "## Step 0: Load The Data"
   ]
  },
  {
   "cell_type": "code",
   "execution_count": 1,
   "metadata": {},
   "outputs": [],
   "source": [
    "# Load pickled data\n",
    "import pickle\n",
    "\n",
    "training_file = './traffic-signs-data/train.p'\n",
    "validation_file= './traffic-signs-data/valid.p'\n",
    "testing_file = './traffic-signs-data/test.p'\n",
    "\n",
    "with open(training_file, mode='rb') as f:\n",
    "    train = pickle.load(f)\n",
    "with open(validation_file, mode='rb') as f:\n",
    "    valid = pickle.load(f)\n",
    "with open(testing_file, mode='rb') as f:\n",
    "    test = pickle.load(f)\n",
    "    \n",
    "X_train, y_train = train['features'], train['labels']\n",
    "X_valid, y_valid = valid['features'], valid['labels']\n",
    "X_test, y_test = test['features'], test['labels']"
   ]
  },
  {
   "cell_type": "markdown",
   "metadata": {},
   "source": [
    "---\n",
    "\n",
    "## Step 1: Dataset Summary & Exploration\n",
    "\n",
    "The pickled data is a dictionary with 4 key/value pairs:\n",
    "\n",
    "- `'features'` is a 4D array containing raw pixel data of the traffic sign images, (num examples, width, height, channels).\n",
    "- `'labels'` is a 1D array containing the label/class id of the traffic sign. The file `signnames.csv` contains id -> name mappings for each id.\n",
    "- `'sizes'` is a list containing tuples, (width, height) representing the original width and height the image.\n",
    "- `'coords'` is a list containing tuples, (x1, y1, x2, y2) representing coordinates of a bounding box around the sign in the image. **THESE COORDINATES ASSUME THE ORIGINAL IMAGE. THE PICKLED DATA CONTAINS RESIZED VERSIONS (32 by 32) OF THESE IMAGES**\n",
    "\n",
    "Complete the basic data summary below. Use python, numpy and/or pandas methods to calculate the data summary rather than hard coding the results. For example, the [pandas shape method](http://pandas.pydata.org/pandas-docs/stable/generated/pandas.DataFrame.shape.html) might be useful for calculating some of the summary results. "
   ]
  },
  {
   "cell_type": "markdown",
   "metadata": {},
   "source": [
    "### Provide a Basic Summary of the Data Set Using Python, Numpy and/or Pandas"
   ]
  },
  {
   "cell_type": "code",
   "execution_count": 13,
   "metadata": {},
   "outputs": [
    {
     "name": "stdout",
     "output_type": "stream",
     "text": [
      "Number of training examples = 34799\n",
      "Number of testing examples = 12630\n",
      "Image data shape = (32, 32, 3)\n",
      "Number of classes = 43\n"
     ]
    }
   ],
   "source": [
    "### Replace each question mark with the appropriate value. \n",
    "### Use python, pandas or numpy methods rather than hard coding the results\n",
    "\n",
    "# TODO: Number of training examples\n",
    "n_train = len(X_train)\n",
    "\n",
    "# TODO: Number of validation examples\n",
    "n_validation = len(X_valid)\n",
    "\n",
    "# TODO: Number of testing examples.\n",
    "n_test = len(X_test)\n",
    "\n",
    "# TODO: What's the shape of an traffic sign image?\n",
    "image_shape = X_train[0].shape\n",
    "\n",
    "# TODO: How many unique classes/labels there are in the dataset.\n",
    "\n",
    "import numpy as np\n",
    "n_classes = len(np.unique(y_train))\n",
    "\n",
    "print(\"Number of training examples =\", n_train)\n",
    "print(\"Number of testing examples =\", n_test)\n",
    "print(\"Image data shape =\", image_shape)\n",
    "print(\"Number of classes =\", n_classes)"
   ]
  },
  {
   "cell_type": "markdown",
   "metadata": {},
   "source": [
    "### Include an exploratory visualization of the dataset"
   ]
  },
  {
   "cell_type": "markdown",
   "metadata": {},
   "source": [
    "Visualize the German Traffic Signs Dataset using the pickled file(s). This is open ended, suggestions include: plotting traffic sign images, plotting the count of each sign, etc. \n",
    "\n",
    "The [Matplotlib](http://matplotlib.org/) [examples](http://matplotlib.org/examples/index.html) and [gallery](http://matplotlib.org/gallery.html) pages are a great resource for doing visualizations in Python.\n",
    "\n",
    "**NOTE:** It's recommended you start with something simple first. If you wish to do more, come back to it after you've completed the rest of the sections. It can be interesting to look at the distribution of classes in the training, validation and test set. Is the distribution the same? Are there more examples of some classes than others?"
   ]
  },
  {
   "cell_type": "code",
   "execution_count": 14,
   "metadata": {},
   "outputs": [
    {
     "name": "stdout",
     "output_type": "stream",
     "text": [
      "8\n",
      "38\n",
      "4\n"
     ]
    },
    {
     "data": {
      "image/png": "[encoded data removed]",
      "text/plain": [
       "<matplotlib.figure.Figure at 0x1c1093ba8>"
      ]
     },
     "metadata": {},
     "output_type": "display_data"
    },
    {
     "data": {
      "image/png": "[encoded data removed]",
      "text/plain": [
       "<matplotlib.figure.Figure at 0x1c1aea1d0>"
      ]
     },
     "metadata": {},
     "output_type": "display_data"
    },
    {
     "data": {
      "image/png": "[encoded data removed]",
      "text/plain": [
       "<matplotlib.figure.Figure at 0x1c1b0d668>"
      ]
     },
     "metadata": {},
     "output_type": "display_data"
    }
   ],
   "source": [
    "### Data exploration visualization code goes here.\n",
    "### Feel free to use as many code cells as needed.\n",
    "import matplotlib.pyplot as plt\n",
    "# Visualizations will be shown in the notebook.\n",
    "%matplotlib inline\n",
    "\n",
    "samples = np.random.randint( 0, len(X_train), 3, np.int)\n",
    "for index in samples:\n",
    "    sample = X_train[index]\n",
    "    \n",
    "    plt.figure(figsize=(2,2))\n",
    "    plt.imshow(sample)\n",
    "    print(y_train[index])\n"
   ]
  },
  {
   "cell_type": "markdown",
   "metadata": {},
   "source": [
    "----\n",
    "\n",
    "## Step 2: Design and Test a Model Architecture\n",
    "\n",
    "Design and implement a deep learning model that learns to recognize traffic signs. Train and test your model on the [German Traffic Sign Dataset](http://benchmark.ini.rub.de/?section=gtsrb&subsection=dataset).\n",
    "\n",
    "The LeNet-5 implementation shown in the [classroom](https://classroom.udacity.com/nanodegrees/nd013/parts/fbf77062-5703-404e-b60c-95b78b2f3f9e/modules/6df7ae49-c61c-4bb2-a23e-6527e69209ec/lessons/601ae704-1035-4287-8b11-e2c2716217ad/concepts/d4aca031-508f-4e0b-b493-e7b706120f81) at the end of the CNN lesson is a solid starting point. You'll have to change the number of classes and possibly the preprocessing, but aside from that it's plug and play! \n",
    "\n",
    "With the LeNet-5 solution from the lecture, you should expect a validation set accuracy of about 0.89. To meet specifications, the validation set accuracy will need to be at least 0.93. It is possible to get an even higher accuracy, but 0.93 is the minimum for a successful project submission. \n",
    "\n",
    "There are various aspects to consider when thinking about this problem:\n",
    "\n",
    "- Neural network architecture (is the network over or underfitting?)\n",
    "- Play around preprocessing techniques (normalization, rgb to grayscale, etc)\n",
    "- Number of examples per label (some have more than others).\n",
    "- Generate fake data.\n",
    "\n",
    "Here is an example of a [published baseline model on this problem](http://yann.lecun.com/exdb/publis/pdf/sermanet-ijcnn-11.pdf). It's not required to be familiar with the approach used in the paper but, it's good practice to try to read papers like these."
   ]
  },
  {
   "cell_type": "markdown",
   "metadata": {},
   "source": [
    "### Pre-process the Data Set (normalization, grayscale, etc.)"
   ]
  },
  {
   "cell_type": "markdown",
   "metadata": {},
   "source": [
    "Minimally, the image data should be normalized so that the data has mean zero and equal variance. For image data, `(pixel - 128)/ 128` is a quick way to approximately normalize the data and can be used in this project. \n",
    "\n",
    "Other pre-processing steps are optional. You can try different techniques to see if it improves performance. \n",
    "\n",
    "\n",
    "Use the code cell (or multiple code cells, if necessary) to implement the first step of your project."
   ]
  },
  {
   "cell_type": "code",
   "execution_count": 15,
   "metadata": {},
   "outputs": [],
   "source": [
    "### Preprocess the data here. It is required to normalize the data. Other preprocessing steps could include \n",
    "### converting to grayscale, etc.\n",
    "### Feel free to use as many code cells as needed.\n",
    "from sklearn.preprocessing import normalize\n",
    "X_train = X_train.astype(np.float64)\n",
    "X_train_norm = X_train.copy()  \n",
    "for index in range(len(X_train)):\n",
    "    for depth in range(3):\n",
    "        X_train_norm[index][:,:,depth] = normalize(X_train[index][:,:,depth])\n",
    "    \n",
    "X_valid = X_valid.astype(np.float64) \n",
    "X_valid_norm = X_valid.copy()\n",
    "for index in range(len(X_valid)):\n",
    "    for depth in range(3):\n",
    "        X_valid_norm[index][:,:,depth] = normalize(X_valid[index][:,:,depth])\n",
    "\n",
    "X_test = X_test.astype(np.float64) \n",
    "X_test_norm = X_test.copy()\n",
    "for index in range(len(X_test)):\n",
    "    for depth in range(3):\n",
    "        X_test_norm[index][:,:,depth] = normalize(X_test[index][:,:,depth])"
   ]
  },
  {
   "cell_type": "markdown",
   "metadata": {},
   "source": [
    "### Model Architecture"
   ]
  },
  {
   "cell_type": "code",
   "execution_count": 16,
   "metadata": {},
   "outputs": [],
   "source": [
    "### Define your architecture here.\n",
    "### Feel free to use as many code cells as neededb"
   ]
  },
  {
   "cell_type": "code",
   "execution_count": 27,
   "metadata": {},
   "outputs": [],
   "source": [
    "from sklearn.utils import shuffle\n",
    "import tensorflow as tf\n",
    "\n",
    "EPOCHS = 20\n",
    "BATCH_SIZE =256"
   ]
  },
  {
   "cell_type": "code",
   "execution_count": 28,
   "metadata": {},
   "outputs": [],
   "source": [
    "from tensorflow.contrib.layers import flatten\n",
    "\n",
    "def LeNet(x):\n",
    "    mu = 0;\n",
    "    sigma = 0.1\n",
    "    \n",
    "    #Layer 1: Conv -  Input: 32*32*3, Output: 28*28*24\n",
    "    conv1_W = tf.Variable(tf.truncated_normal(shape=(5,5,3,30), mean = mu, stddev=sigma))\n",
    "    conv1_b = tf.Variable(tf.zeros(30))\n",
    "    conv1    = tf.nn.conv2d(x, conv1_W, strides=[1,1,1,1], padding='VALID') + conv1_b\n",
    "    #Activation_C1\n",
    "    conv1 = tf.nn.relu(conv1)\n",
    "\n",
    "    #Max Pooling - Input: 28*28*24, Output: 14*14*24\n",
    "    conv1 = tf.nn.max_pool(conv1, ksize=[1,2,2,1], strides=[1,2,2,1], padding='VALID')\n",
    "    \n",
    "    #Layer 2: Conv. - Input: 14*14*24, Output: 10*10*48\n",
    "    conv2_W = tf.Variable(tf.truncated_normal(shape=(5,5,30,60), mean= mu, stddev = sigma))\n",
    "    conv2_b = tf.Variable(tf.zeros(60))\n",
    "    conv2   = tf.nn.conv2d(conv1, conv2_W, strides=[1,1,1,1],padding='VALID') + conv2_b\n",
    "    \n",
    "    #Activatio_C2\n",
    "    conv2 = tf.nn.relu(conv2)\n",
    "       \n",
    "    #Max Pooling - Input: 10*10*48, Output: 5*5*48\n",
    "    conv2 = tf.nn.max_pool(conv2, ksize=[1,2,2,1], strides=[1,2,2,1], padding='VALID')\n",
    "    \n",
    "    #flatten\n",
    "    fc0 = flatten(conv2)\n",
    "    \n",
    "    #fully connected\n",
    "    fc1_W = tf.Variable(tf.truncated_normal(shape=(1500,600), mean= mu, stddev=sigma))\n",
    "    fc1_b = tf.Variable(tf.zeros(600))\n",
    "    fc1 = tf.matmul(fc0, fc1_W) + fc1_b\n",
    "    fc1 = tf.nn.relu(fc1)\n",
    "    \n",
    "    fc2_W = tf.Variable(tf.truncated_normal(shape=(600,300), mean=mu, stddev=sigma))\n",
    "    fc2_b = tf.Variable(tf.zeros(300))\n",
    "    fc2 = tf.matmul(fc1, fc2_W) + fc2_b\n",
    "    fc2 = tf.nn.relu(fc2)\n",
    "\n",
    "    fc3_W = tf.Variable(tf.truncated_normal(shape=(300,100), mean=mu, stddev=sigma))\n",
    "    fc3_b = tf.Variable(tf.zeros(100))\n",
    "    fc3 = tf.matmul(fc2, fc3_W) + fc3_b\n",
    "    fc3 = tf.nn.relu(fc3)\n",
    "\n",
    "    fc4_W = tf.Variable(tf.truncated_normal(shape=(100,43), mean=mu, stddev=sigma))\n",
    "    fc4_b = tf.Variable(tf.zeros(43))\n",
    "    logits = tf.matmul(fc3, fc4_W) + fc4_b\n",
    "    \n",
    "    return logits"
   ]
  },
  {
   "cell_type": "code",
   "execution_count": 29,
   "metadata": {},
   "outputs": [],
   "source": [
    "x = tf.placeholder(tf.float32, (None, 32,32,3))\n",
    "y = tf.placeholder(tf.int32, (None))\n",
    "one_hot_y = tf.one_hot(y, 43)"
   ]
  },
  {
   "cell_type": "code",
   "execution_count": 31,
   "metadata": {},
   "outputs": [],
   "source": [
    "rate = 0.005\n",
    "\n",
    "logits = LeNet(x)\n",
    "cross_entropy = tf.nn.softmax_cross_entropy_with_logits(labels=one_hot_y, logits=logits)\n",
    "loss_operation = tf.reduce_mean(cross_entropy)\n",
    "optimizer = tf.train.AdamOptimizer(learning_rate=rate)\n",
    "training_operation = optimizer.minimize(loss_operation)\n"
   ]
  },
  {
   "cell_type": "code",
   "execution_count": 32,
   "metadata": {},
   "outputs": [],
   "source": [
    "correct_prediction = tf.equal(tf.argmax(logits, 1), tf.argmax(one_hot_y, 1))\n",
    "accuracy_operation = tf.reduce_mean(tf.cast(correct_prediction,tf.float32))\n",
    "\n",
    "\n",
    "def evaluate(X_data, y_data):\n",
    "    num_examples = len(X_data)\n",
    "    total_accuracy = 0\n",
    "    sess = tf.get_default_session()\n",
    "    for offset in range(0, num_examples, BATCH_SIZE):\n",
    "        batch_x, batch_y = X_data[offset:offset+BATCH_SIZE], y_data[offset:offset+BATCH_SIZE]\n",
    "        accuracy  = sess.run(accuracy_operation, feed_dict = {x: batch_x, y:batch_y})\n",
    "        total_accuracy += (accuracy *len(batch_x))\n",
    "        \n",
    "    return total_accuracy / num_examples\n",
    "        "
   ]
  },
  {
   "cell_type": "markdown",
   "metadata": {},
   "source": [
    "### Train, Validate and Test the Model"
   ]
  },
  {
   "cell_type": "markdown",
   "metadata": {},
   "source": [
    "A validation set can be used to assess how well the model is performing. A low accuracy on the training and validation\n",
    "sets imply underfitting. A high accuracy on the training set but low accuracy on the validation set implies overfitting."
   ]
  },
  {
   "cell_type": "code",
   "execution_count": 33,
   "metadata": {},
   "outputs": [],
   "source": [
    "model_path = \"./saved_model/model.ckpt\""
   ]
  },
  {
   "cell_type": "code",
   "execution_count": 34,
   "metadata": {},
   "outputs": [
    {
     "name": "stdout",
     "output_type": "stream",
     "text": [
      "training Session...\n",
      "Training...\n",
      "EPOCH 1...\n",
      "-Training Accuracy = 0.924\n",
      "-Validation Accuracy = 0.856\n",
      "\n",
      "EPOCH 2...\n",
      "-Training Accuracy = 0.978\n",
      "-Validation Accuracy = 0.912\n",
      "\n",
      "EPOCH 3...\n",
      "-Training Accuracy = 0.978\n",
      "-Validation Accuracy = 0.905\n",
      "\n",
      "EPOCH 4...\n",
      "-Training Accuracy = 0.991\n",
      "-Validation Accuracy = 0.930\n",
      "\n",
      "EPOCH 5...\n",
      "-Training Accuracy = 0.994\n",
      "-Validation Accuracy = 0.928\n",
      "\n",
      "EPOCH 6...\n",
      "-Training Accuracy = 0.994\n",
      "-Validation Accuracy = 0.939\n",
      "\n",
      "EPOCH 7...\n",
      "-Training Accuracy = 0.995\n",
      "-Validation Accuracy = 0.932\n",
      "\n",
      "EPOCH 8...\n",
      "-Training Accuracy = 0.995\n",
      "-Validation Accuracy = 0.932\n",
      "\n",
      "EPOCH 9...\n",
      "-Training Accuracy = 0.984\n",
      "-Validation Accuracy = 0.924\n",
      "\n",
      "EPOCH 10...\n",
      "-Training Accuracy = 0.995\n",
      "-Validation Accuracy = 0.950\n",
      "\n",
      "EPOCH 11...\n",
      "-Training Accuracy = 0.986\n",
      "-Validation Accuracy = 0.933\n",
      "\n",
      "EPOCH 12...\n",
      "-Training Accuracy = 0.997\n",
      "-Validation Accuracy = 0.949\n",
      "\n",
      "EPOCH 13...\n",
      "-Training Accuracy = 0.996\n",
      "-Validation Accuracy = 0.938\n",
      "\n",
      "EPOCH 14...\n",
      "-Training Accuracy = 0.993\n",
      "-Validation Accuracy = 0.948\n",
      "\n",
      "EPOCH 15...\n",
      "-Training Accuracy = 0.995\n",
      "-Validation Accuracy = 0.946\n",
      "\n",
      "EPOCH 16...\n",
      "-Training Accuracy = 0.996\n",
      "-Validation Accuracy = 0.942\n",
      "\n",
      "EPOCH 17...\n",
      "-Training Accuracy = 0.989\n",
      "-Validation Accuracy = 0.923\n",
      "\n",
      "EPOCH 18...\n",
      "-Training Accuracy = 0.996\n",
      "-Validation Accuracy = 0.946\n",
      "\n",
      "EPOCH 19...\n",
      "-Training Accuracy = 0.996\n",
      "-Validation Accuracy = 0.937\n",
      "\n",
      "EPOCH 20...\n",
      "-Training Accuracy = 0.987\n",
      "-Validation Accuracy = 0.924\n",
      "\n",
      "Model saved in file: ./saved_model/model.ckpt\n"
     ]
    }
   ],
   "source": [
    "\n",
    "print(\"training Session...\")    \n",
    "with tf.Session() as sess:\n",
    "    print(\"Training...\")\n",
    "\n",
    "    sess.run(tf.global_variables_initializer())\n",
    "    num_examples = len(X_train_norm)\n",
    "    \n",
    "    for i in range(EPOCHS):\n",
    "        print(\"EPOCH {}...\".format(i+1))\n",
    "        X_train_norm, y_train = shuffle(X_train_norm, y_train)\n",
    "        for offset in range(0, num_examples, BATCH_SIZE):\n",
    "            end = offset + BATCH_SIZE\n",
    "            batch_x, batch_y = X_train_norm[offset:end], y_train[offset:end]\n",
    "            sess.run(training_operation, feed_dict= {x:batch_x, y:batch_y})\n",
    "\n",
    "        training_accuracy = evaluate(X_train_norm, y_train)\n",
    "        print(\"-Training Accuracy = {:.3f}\".format(training_accuracy))\n",
    "\n",
    "        validation_accuracy = evaluate(X_valid_norm, y_valid)\n",
    "        print(\"-Validation Accuracy = {:.3f}\".format(validation_accuracy))\n",
    "        print()\n",
    "\n",
    "    saver = tf.train.Saver()\n",
    "    save_path = saver.save(sess, model_path)\n",
    "    print(\"Model saved in file: %s\" % save_path)\n",
    "\n",
    "### Train your model here.\n",
    "### Calculate and report the accuracy on the training and validation set.\n",
    "### Once a final model architecture is selected, \n",
    "### the accuracy on the test set should be calculated and reported as well.\n",
    "### Feel free to use as many code cells as needed.\n",
    "\n",
    "#performance note\n",
    "#increased batch size 128 -> 256\n",
    "#descresed learning rate to 0.01 -> 0.005\n",
    "#shuffle the test set"
   ]
  },
  {
   "cell_type": "code",
   "execution_count": 44,
   "metadata": {},
   "outputs": [
    {
     "name": "stdout",
     "output_type": "stream",
     "text": [
      "Re-training Session...\n",
      "Training...\n",
      "INFO:tensorflow:Restoring parameters from ./saved_model/model.ckpt\n",
      "EPOCH 1...\n",
      "-Training Accuracy = 0.998\n",
      "-Validation Accuracy = 0.936\n",
      "\n",
      "Model saved in file: ./saved_model/model.ckpt\n"
     ]
    }
   ],
   "source": [
    "print(\"Re-training Session...\")    \n",
    "with tf.Session() as sess:\n",
    "    print(\"Training...\")\n",
    "\n",
    "    saver = tf.train.Saver()\n",
    "    saver.restore(sess, model_path)\n",
    "    num_examples = len(X_train_norm)\n",
    "    \n",
    "    for i in range(1):\n",
    "        print(\"EPOCH {}...\".format(i+1))\n",
    "        X_train_norm, y_train = shuffle(X_train_norm, y_train)\n",
    "        for offset in range(0, num_examples, BATCH_SIZE):\n",
    "            end = offset + BATCH_SIZE\n",
    "            batch_x, batch_y = X_train_norm[offset:end], y_train[offset:end]\n",
    "            sess.run(training_operation, feed_dict= {x:batch_x, y:batch_y})\n",
    "\n",
    "        training_accuracy = evaluate(X_train_norm, y_train)\n",
    "        print(\"-Training Accuracy = {:.3f}\".format(training_accuracy))\n",
    "\n",
    "        validation_accuracy = evaluate(X_valid_norm, y_valid)\n",
    "        print(\"-Validation Accuracy = {:.3f}\".format(validation_accuracy))\n",
    "        print()\n",
    "\n",
    "    saver = tf.train.Saver()\n",
    "    save_path = saver.save(sess, model_path)\n",
    "    print(\"Model saved in file: %s\" % save_path)"
   ]
  },
  {
   "cell_type": "code",
   "execution_count": 200,
   "metadata": {},
   "outputs": [
    {
     "name": "stdout",
     "output_type": "stream",
     "text": [
      "Test Session...\n",
      "INFO:tensorflow:Restoring parameters from ./saved_model/model.ckpt\n",
      "Model restored from file: ./saved_model/model.ckpt\n",
      "Test Accuracy:  0.930878859999\n"
     ]
    }
   ],
   "source": [
    "print(\"Test Session...\")\n",
    "with tf.Session() as sess:\n",
    "    saver = tf.train.Saver()\n",
    "    saver.restore(sess, model_path)\n",
    "    print(\"Model restored from file: %s\" % model_path)\n",
    "    test_result = evaluate(X_test_norm, y_test)\n",
    "    print(\"Test Accuracy: \", test_result)"
   ]
  },
  {
   "cell_type": "markdown",
   "metadata": {},
   "source": [
    "---\n",
    "\n",
    "## Step 3: Test a Model on New Images\n",
    "\n",
    "To give yourself more insight into how your model is working, download at least five pictures of German traffic signs from the web and use your model to predict the traffic sign type.\n",
    "\n",
    "You may find `signnames.csv` useful as it contains mappings from the class id (integer) to the actual sign name."
   ]
  },
  {
   "cell_type": "markdown",
   "metadata": {},
   "source": [
    "### Load and Output the Images"
   ]
  },
  {
   "cell_type": "code",
   "execution_count": 37,
   "metadata": {},
   "outputs": [],
   "source": [
    "### Load the images and plot them here.\n",
    "### Feel free to use as many code cells as needed."
   ]
  },
  {
   "cell_type": "code",
   "execution_count": 54,
   "metadata": {},
   "outputs": [],
   "source": [
    "import matplotlib.pyplot as plt\n",
    "import matplotlib.image as mpimg\n",
    "import PIL\n",
    "from PIL import Image"
   ]
  },
  {
   "cell_type": "code",
   "execution_count": 182,
   "metadata": {},
   "outputs": [],
   "source": [
    "img = Image.open('./web_images/round_about.jpg')\n",
    "img = img.resize((32, 32), PIL.Image.ANTIALIAS)\n",
    "img.save('./web_images/resized_round_about.jpg')\n",
    "\n",
    "img = Image.open('./web_images/50.jpg')\n",
    "img = img.resize((32, 32), PIL.Image.ANTIALIAS)\n",
    "img.save('./web_images/resized_50.jpg')\n",
    "\n",
    "img = Image.open('./web_images/60.jpg')\n",
    "img = img.resize((32, 32), PIL.Image.ANTIALIAS)\n",
    "img.save('./web_images/resized_60.jpg')\n",
    "\n",
    "img = Image.open('./web_images/stop.jpeg')\n",
    "img = img.resize((32, 32), PIL.Image.ANTIALIAS)\n",
    "img.save('./web_images/resized_stop.jpg')\n",
    "\n",
    "img = Image.open('./web_images/turn_right.jpg')\n",
    "img = img.resize((32, 32), PIL.Image.ANTIALIAS)\n",
    "img.save('./web_images/resized_turn_right.jpg')\n",
    "\n",
    "img = Image.open('./web_images/pedestrain.jpg')\n",
    "img = img.resize((32, 32), PIL.Image.ANTIALIAS)\n",
    "img.save('./web_images/resized_pedestrain.jpg')"
   ]
  },
  {
   "cell_type": "code",
   "execution_count": 186,
   "metadata": {},
   "outputs": [],
   "source": [
    "rotary = mpimg.imread('./web_images/resized_round_about.jpg')\n",
    "rotary = rotary.astype(np.float32)\n",
    "rotary_norm = rotary.copy()  \n",
    "for depth in range(3):\n",
    "    rotary_norm[:,:,depth] = normalize(rotary[:,:,depth])\n",
    "\n",
    "image50 = mpimg.imread('./web_images/resized_50.jpg')\n",
    "image50 = image50.astype(np.float32)\n",
    "image50_norm = image50.copy()  \n",
    "for depth in range(3):\n",
    "    image50_norm[:,:,depth] = normalize(image50[:,:,depth])\n",
    "    \n",
    "image60 = mpimg.imread('./web_images/resized_60.jpg')\n",
    "image60 = image60.astype(np.float32)\n",
    "image60_norm = image60.copy()  \n",
    "for depth in range(3):\n",
    "    image60_norm[:,:,depth] = normalize(image60[:,:,depth])\n",
    "\n",
    "stop = mpimg.imread('./web_images/resized_stop.jpg')\n",
    "stop = stop.astype(np.float32)\n",
    "stop_norm = stop.copy()  \n",
    "for depth in range(3):\n",
    "    stop_norm[:,:,depth] = normalize(stop[:,:,depth])\n",
    "\n",
    "turn_right = mpimg.imread('./web_images/resized_turn_right.jpg')\n",
    "turn_right = turn_right.astype(np.float32)\n",
    "turn_right_norm = turn_right.copy()  \n",
    "for depth in range(3):\n",
    "    turn_right_norm[:,:,depth] = normalize(turn_right[:,:,depth])\n",
    "\n",
    "\n",
    "pedestrain = mpimg.imread('./web_images/resized_pedestrain.jpg')\n",
    "pedestrain = pedestrain.astype(np.float32)\n",
    "pedestrain_norm = pedestrain.copy()  \n",
    "for depth in range(3):\n",
    "    pedestrain_norm[:,:,depth] = normalize(pedestrain[:,:,depth])\n",
    "\n",
    "        \n",
    "images_searched = [rotary_norm, image50_norm, image60_norm, stop_norm, turn_right_norm, pedestrain_norm]"
   ]
  },
  {
   "cell_type": "code",
   "execution_count": 219,
   "metadata": {},
   "outputs": [],
   "source": [
    "sign_dict = {0: \"Speed limit (20km/h)\", \n",
    "    1: \"Speed limit (30km/h)\",\n",
    "    2: \"Speed limit (50km/h)\",\n",
    "    3: \"Speed limit (60km/h)\",\n",
    "    4: \"Speed limit (70km/h)\",\n",
    "    5: \"Speed limit (80km/h)\",\n",
    "    6: \"End of speed limit (80km/h)\",\n",
    "    7: \"Speed limit (100km/h)\",\n",
    "    8: \"Speed limit (120km/h)\",\n",
    "    9: \"No passing\",\n",
    "    10: \"No passing for vehicles over 3.5 metric tons\",\n",
    "    11: \"Right-of-way at the next intersection\",\n",
    "    12: \"Priority road\",\n",
    "    13: \"Yield\",\n",
    "    14: \"Stop\",\n",
    "    15: \"No vehicles\",\n",
    "    16: \"Vehicles over 3.5 metric tons prohibited\",\n",
    "    17: \"No entry\",\n",
    "    18: \"General caution\",\n",
    "    19: \"Dangerous curve to the left\",\n",
    "    20: \"Dangerous curve to the right\",\n",
    "    21: \"Double curve\",\n",
    "    22: \"Bumpy road\",\n",
    "    23: \"Slippery road\",\n",
    "    24: \"Road narrows on the right\",\n",
    "    25: \"Road work\",\n",
    "    26: \"Traffic signals\",\n",
    "    27: \"Pedestrians\",\n",
    "    28: \"Children crossing\",\n",
    "    29: \"Bicycles crossing\",\n",
    "    30: \"Beware of ice/snow\",\n",
    "    31: \"Wild animals crossing\",\n",
    "    32: \"End of all speed and passing limits\",\n",
    "    33: \"Turn right ahead\",\n",
    "    34: \"Turn left ahead\",\n",
    "    35: \"Ahead only\",\n",
    "    36: \"Go straight or right\",\n",
    "    37: \"Go straight or left\",\n",
    "    38: \"Keep right\",\n",
    "    39: \"Keep left\",\n",
    "    40: \"Roundabout mandatory\",\n",
    "    41: \"End of no passing\",\n",
    "    42: \"End of no passing by vehicles over 3.5 metric tons\"}"
   ]
  },
  {
   "cell_type": "code",
   "execution_count": 187,
   "metadata": {},
   "outputs": [
    {
     "data": {
      "image/png": "[encoded data removed]",
      "text/plain": [
       "<matplotlib.figure.Figure at 0x1200e8748>"
      ]
     },
     "metadata": {},
     "output_type": "display_data"
    },
    {
     "data": {
      "image/png": "[encoded data removed]",
      "text/plain": [
       "<matplotlib.figure.Figure at 0x120114898>"
      ]
     },
     "metadata": {},
     "output_type": "display_data"
    },
    {
     "data": {
      "image/png": "[encoded data removed]",
      "text/plain": [
       "<matplotlib.figure.Figure at 0x12013e2b0>"
      ]
     },
     "metadata": {},
     "output_type": "display_data"
    },
    {
     "data": {
      "image/png": "[encoded data removed]",
      "text/plain": [
       "<matplotlib.figure.Figure at 0x10bf76c88>"
      ]
     },
     "metadata": {},
     "output_type": "display_data"
    },
    {
     "data": {
      "image/png": "[encoded data removed]",
      "text/plain": [
       "<matplotlib.figure.Figure at 0x1201218d0>"
      ]
     },
     "metadata": {},
     "output_type": "display_data"
    },
    {
     "data": {
      "image/png": "[encoded data removed]",
      "text/plain": [
       "<matplotlib.figure.Figure at 0x12003b0b8>"
      ]
     },
     "metadata": {},
     "output_type": "display_data"
    }
   ],
   "source": [
    "for index in range(len(images_searched)):\n",
    "    sample = images_searched[index]\n",
    "    \n",
    "    plt.figure(figsize=(2,2))\n",
    "    plt.imshow(sample)"
   ]
  },
  {
   "cell_type": "markdown",
   "metadata": {},
   "source": [
    "### Predict the Sign Type for Each Image"
   ]
  },
  {
   "cell_type": "code",
   "execution_count": 38,
   "metadata": {},
   "outputs": [],
   "source": [
    "### Run the predictions here and use the model to output the prediction for each image.\n",
    "### Make sure to pre-process the images with the same pre-processing pipeline used earlier.\n",
    "### Feel free to use as many code cells as needed."
   ]
  },
  {
   "cell_type": "code",
   "execution_count": 223,
   "metadata": {},
   "outputs": [
    {
     "name": "stdout",
     "output_type": "stream",
     "text": [
      "Roundabout mandatory\n",
      "Speed limit (50km/h)\n",
      "Speed limit (60km/h)\n",
      "Stop\n",
      "Turn right ahead\n",
      "Pedestrians\n"
     ]
    }
   ],
   "source": [
    "#result_label based on 'signnames.csv'\n",
    "\n",
    "actual_indices_of_images = [40, 2, 3, 14, 33, 27]"
   ]
  },
  {
   "cell_type": "code",
   "execution_count": 196,
   "metadata": {},
   "outputs": [],
   "source": [
    "predict_index = tf.argmax(logits, 1)\n",
    "\n",
    "def predict_indices(X_data):\n",
    "    sess = tf.get_default_session()\n",
    "    return sess.run(predict_index, feed_dict = {x: X_data})\n"
   ]
  },
  {
   "cell_type": "code",
   "execution_count": 226,
   "metadata": {},
   "outputs": [],
   "source": [
    "def get_sign_names(indices):\n",
    "    result = []\n",
    "    for item in indices:\n",
    "        result.append(sign_dict[item])\n",
    "\n",
    "    return result"
   ]
  },
  {
   "cell_type": "code",
   "execution_count": 249,
   "metadata": {},
   "outputs": [
    {
     "name": "stdout",
     "output_type": "stream",
     "text": [
      "INFO:tensorflow:Restoring parameters from ./saved_model/model.ckpt\n"
     ]
    },
    {
     "name": "stderr",
     "output_type": "stream",
     "text": [
      "INFO:tensorflow:Restoring parameters from ./saved_model/model.ckpt\n"
     ]
    },
    {
     "name": "stdout",
     "output_type": "stream",
     "text": [
      "Model Predicts(index):  [40  2  3 14 33 11]\n",
      "Model Predicts(name):  ['Roundabout mandatory', 'Speed limit (50km/h)', 'Speed limit (60km/h)', 'Stop', 'Turn right ahead', 'Right-of-way at the next intersection']\n",
      "\n",
      "\n",
      "Actual Labels(index):  [40, 2, 3, 14, 33, 27]\n",
      "Actual Labels(name):  ['Roundabout mandatory', 'Speed limit (50km/h)', 'Speed limit (60km/h)', 'Stop', 'Turn right ahead', 'Pedestrians']\n",
      "\n",
      "\n",
      "\n"
     ]
    }
   ],
   "source": [
    "\n",
    "with tf.Session() as sess:\n",
    "    tf.train.Saver().restore(sess, model_path)\n",
    "    prediction_result = predict_indices(images_searched)\n",
    "    print (\"Model Predicts(index): \", prediction_result)\n",
    "    print (\"Model Predicts(name): \", get_sign_names(prediction_result))\n",
    "    \n",
    "\n",
    "print ('\\n')\n",
    "print ('Actual Labels(index): ', actual_indices_of_images)\n",
    "print ('Actual Labels(name): ', get_sign_names(actual_indices_of_images))\n",
    "print ('\\n\\n')\n",
    "\n",
    "\n",
    "#only last prediction failed."
   ]
  },
  {
   "cell_type": "markdown",
   "metadata": {},
   "source": [
    "### Analyze Performance"
   ]
  },
  {
   "cell_type": "code",
   "execution_count": 229,
   "metadata": {},
   "outputs": [
    {
     "name": "stdout",
     "output_type": "stream",
     "text": [
      "INFO:tensorflow:Restoring parameters from ./saved_model/model.ckpt\n"
     ]
    },
    {
     "name": "stderr",
     "output_type": "stream",
     "text": [
      "INFO:tensorflow:Restoring parameters from ./saved_model/model.ckpt\n"
     ]
    },
    {
     "name": "stdout",
     "output_type": "stream",
     "text": [
      "It's  83 % accurate on these new images\n"
     ]
    }
   ],
   "source": [
    "### Calculate the accuracy for these 5 new images. \n",
    "### For example, if the model predicted 1 out of 5 signs correctly, it's 20% accurate on these new images.\n",
    "\n",
    "with tf.Session() as sess:\n",
    "    tf.train.Saver().restore(sess, model_path)\n",
    "    web_images_result =  evaluate(images_searched, actual_indices_of_images)\n",
    "    print ( \"It's \", int( web_images_result * 100 ), \"% accurate on these new images\")"
   ]
  },
  {
   "cell_type": "markdown",
   "metadata": {},
   "source": [
    "### Output Top 5 Softmax Probabilities For Each Image Found on the Web"
   ]
  },
  {
   "cell_type": "markdown",
   "metadata": {},
   "source": [
    "For each of the new images, print out the model's softmax probabilities to show the **certainty** of the model's predictions (limit the output to the top 5 probabilities for each image). [`tf.nn.top_k`](https://www.tensorflow.org/versions/r0.12/api_docs/python/nn.html#top_k) could prove helpful here. \n",
    "\n",
    "The example below demonstrates how tf.nn.top_k can be used to find the top k predictions for each image.\n",
    "\n",
    "`tf.nn.top_k` will return the values and indices (class ids) of the top k predictions. So if k=3, for each sign, it'll return the 3 largest probabilities (out of a possible 43) and the correspoding class ids.\n",
    "\n",
    "Take this numpy array as an example. The values in the array represent predictions. The array contains softmax probabilities for five candidate images with six possible classes. `tk.nn.top_k` is used to choose the three classes with the highest probability:\n",
    "\n",
    "```\n",
    "# (5, 6) array\n",
    "a = np.array([[ 0.24879643,  0.07032244,  0.12641572,  0.34763842,  0.07893497,\n",
    "         0.12789202],\n",
    "       [ 0.28086119,  0.27569815,  0.08594638,  0.0178669 ,  0.18063401,\n",
    "         0.15899337],\n",
    "       [ 0.26076848,  0.23664738,  0.08020603,  0.07001922,  0.1134371 ,\n",
    "         0.23892179],\n",
    "       [ 0.11943333,  0.29198961,  0.02605103,  0.26234032,  0.1351348 ,\n",
    "         0.16505091],\n",
    "       [ 0.09561176,  0.34396535,  0.0643941 ,  0.16240774,  0.24206137,\n",
    "         0.09155967]])\n",
    "```\n",
    "\n",
    "Running it through `sess.run(tf.nn.top_k(tf.constant(a), k=3))` produces:\n",
    "\n",
    "```\n",
    "TopKV2(values=array([[ 0.34763842,  0.24879643,  0.12789202],\n",
    "       [ 0.28086119,  0.27569815,  0.18063401],\n",
    "       [ 0.26076848,  0.23892179,  0.23664738],\n",
    "       [ 0.29198961,  0.26234032,  0.16505091],\n",
    "       [ 0.34396535,  0.24206137,  0.16240774]]), indices=array([[3, 0, 5],\n",
    "       [0, 1, 4],\n",
    "       [0, 5, 1],\n",
    "       [1, 3, 5],\n",
    "       [1, 4, 3]], dtype=int32))\n",
    "```\n",
    "\n",
    "Looking just at the first row we get `[ 0.34763842,  0.24879643,  0.12789202]`, you can confirm these are the 3 largest probabilities in `a`. You'll also notice `[3, 0, 5]` are the corresponding indices."
   ]
  },
  {
   "cell_type": "code",
   "execution_count": 193,
   "metadata": {},
   "outputs": [],
   "source": [
    "softmax_top5 = tf.nn.top_k(logits, k=5)\n",
    "\n",
    "def get_softmax_top5(X_data):\n",
    "    sess = tf.get_default_session()\n",
    "    return sess.run(softmax_top5, feed_dict = {x: X_data})\n"
   ]
  },
  {
   "cell_type": "code",
   "execution_count": 245,
   "metadata": {},
   "outputs": [
    {
     "data": {
      "text/plain": [
       "'Turn right ahead'"
      ]
     },
     "execution_count": 245,
     "metadata": {},
     "output_type": "execute_result"
    }
   ],
   "source": [
    "sign_dict[actual_indices_of_images[4]]"
   ]
  },
  {
   "cell_type": "code",
   "execution_count": 248,
   "metadata": {
    "scrolled": true
   },
   "outputs": [
    {
     "name": "stdout",
     "output_type": "stream",
     "text": [
      "INFO:tensorflow:Restoring parameters from ./saved_model/model.ckpt\n"
     ]
    },
    {
     "name": "stderr",
     "output_type": "stream",
     "text": [
      "INFO:tensorflow:Restoring parameters from ./saved_model/model.ckpt\n"
     ]
    },
    {
     "data": {
      "image/png": "[encoded data removed]",
      "text/plain": [
       "<matplotlib.figure.Figure at 0x12a18a6d8>"
      ]
     },
     "metadata": {},
     "output_type": "display_data"
    },
    {
     "name": "stdout",
     "output_type": "stream",
     "text": [
      "[ 32.74129486  18.52091026  11.16104412   9.59234047   7.73176575]\n",
      "['Right-of-way at the next intersection', 'Traffic signals', 'General caution', 'Beware of ice/snow', 'Ahead only']\n",
      "\n",
      "\n",
      "\n"
     ]
    },
    {
     "data": {
      "image/png": "[encoded data removed]",
      "text/plain": [
       "<matplotlib.figure.Figure at 0x13485f128>"
      ]
     },
     "metadata": {},
     "output_type": "display_data"
    },
    {
     "name": "stdout",
     "output_type": "stream",
     "text": [
      "[ 32.74129486  18.52091026  11.16104412   9.59234047   7.73176575]\n",
      "['Right-of-way at the next intersection', 'Traffic signals', 'General caution', 'Beware of ice/snow', 'Ahead only']\n",
      "\n",
      "\n",
      "\n"
     ]
    },
    {
     "data": {
      "image/png": "[encoded data removed]",
      "text/plain": [
       "<matplotlib.figure.Figure at 0x12adb9710>"
      ]
     },
     "metadata": {},
     "output_type": "display_data"
    },
    {
     "name": "stdout",
     "output_type": "stream",
     "text": [
      "[ 32.74129486  18.52091026  11.16104412   9.59234047   7.73176575]\n",
      "['Right-of-way at the next intersection', 'Traffic signals', 'General caution', 'Beware of ice/snow', 'Ahead only']\n",
      "\n",
      "\n",
      "\n"
     ]
    },
    {
     "data": {
      "image/png": "[encoded data removed]",
      "text/plain": [
       "<matplotlib.figure.Figure at 0x12b21da20>"
      ]
     },
     "metadata": {},
     "output_type": "display_data"
    },
    {
     "name": "stdout",
     "output_type": "stream",
     "text": [
      "[ 32.74129486  18.52091026  11.16104412   9.59234047   7.73176575]\n",
      "['Right-of-way at the next intersection', 'Traffic signals', 'General caution', 'Beware of ice/snow', 'Ahead only']\n",
      "\n",
      "\n",
      "\n"
     ]
    },
    {
     "data": {
      "image/png": "[encoded data removed]",
      "text/plain": [
       "<matplotlib.figure.Figure at 0x134847550>"
      ]
     },
     "metadata": {},
     "output_type": "display_data"
    },
    {
     "name": "stdout",
     "output_type": "stream",
     "text": [
      "[ 32.74129486  18.52091026  11.16104412   9.59234047   7.73176575]\n",
      "['Right-of-way at the next intersection', 'Traffic signals', 'General caution', 'Beware of ice/snow', 'Ahead only']\n",
      "\n",
      "\n",
      "\n"
     ]
    },
    {
     "data": {
      "image/png": "[encoded data removed]",
      "text/plain": [
       "<matplotlib.figure.Figure at 0x12bee95c0>"
      ]
     },
     "metadata": {},
     "output_type": "display_data"
    },
    {
     "name": "stdout",
     "output_type": "stream",
     "text": [
      "[ 32.74129486  18.52091026  11.16104412   9.59234047   7.73176575]\n",
      "['Right-of-way at the next intersection', 'Traffic signals', 'General caution', 'Beware of ice/snow', 'Ahead only']\n",
      "\n",
      "\n",
      "\n"
     ]
    }
   ],
   "source": [
    "import matplotlib.pyplot as plt\n",
    "%matplotlib inline\n",
    "\n",
    "with tf.Session() as sess:\n",
    "    tf.train.Saver().restore(sess, model_path)\n",
    "    values, indices = get_softmax_top5(images_searched)\n",
    "\n",
    "    for index in (range(len(values))):\n",
    "        y_ticks = values[index]\n",
    "        x_ticks = get_sign_names(indices[index])\n",
    "        x_label = sign_dict[actual_indices_of_images[index]]\n",
    "\n",
    "        plt.bar(x_ticks, y_ticks)\n",
    "        plt.xticks(rotation=90)\n",
    "        plt.xlabel(x_label)\n",
    "        plt.show()\n",
    "        \n",
    "        print (y_labels)\n",
    "        print (x_labels)\n",
    "        print ('\\n\\n')\n",
    "\n",
    "    \n",
    "### Print out the top five softmax pdrobabilities for the predictions on the German traffic sign images found on the web. \n",
    "### Feel free to use as many code cells as needed."
   ]
  },
  {
   "cell_type": "markdown",
   "metadata": {},
   "source": [
    "### Project Writeup\n",
    "\n",
    "Once you have completed the code implementation, document your results in a project writeup using this [template](https://github.com/udacity/CarND-Traffic-Sign-Classifier-Project/blob/master/writeup_template.md) as a guide. The writeup can be in a markdown or pdf file. "
   ]
  },
  {
   "cell_type": "markdown",
   "metadata": {},
   "source": [
    "> **Note**: Once you have completed all of the code implementations and successfully answered each question above, you may finalize your work by exporting the iPython Notebook as an HTML document. You can do this by using the menu above and navigating to  \\n\",\n",
    "    \"**File -> Download as -> HTML (.html)**. Include the finished document along with this notebook as your submission."
   ]
  },
  {
   "cell_type": "markdown",
   "metadata": {},
   "source": [
    "---\n",
    "\n",
    "## Step 4 (Optional): Visualize the Neural Network's State with Test Images\n",
    "\n",
    " This Section is not required to complete but acts as an additional excersise for understaning the output of a neural network's weights. While neural networks can be a great learning device they are often referred to as a black box. We can understand what the weights of a neural network look like better by plotting their feature maps. After successfully training your neural network you can see what it's feature maps look like by plotting the output of the network's weight layers in response to a test stimuli image. From these plotted feature maps, it's possible to see what characteristics of an image the network finds interesting. For a sign, maybe the inner network feature maps react with high activation to the sign's boundary outline or to the contrast in the sign's painted symbol.\n",
    "\n",
    " Provided for you below is the function code that allows you to get the visualization output of any tensorflow weight layer you want. The inputs to the function should be a stimuli image, one used during training or a new one you provided, and then the tensorflow variable name that represents the layer's state during the training process, for instance if you wanted to see what the [LeNet lab's](https://classroom.udacity.com/nanodegrees/nd013/parts/fbf77062-5703-404e-b60c-95b78b2f3f9e/modules/6df7ae49-c61c-4bb2-a23e-6527e69209ec/lessons/601ae704-1035-4287-8b11-e2c2716217ad/concepts/d4aca031-508f-4e0b-b493-e7b706120f81) feature maps looked like for it's second convolutional layer you could enter conv2 as the tf_activation variable.\n",
    "\n",
    "For an example of what feature map outputs look like, check out NVIDIA's results in their paper [End-to-End Deep Learning for Self-Driving Cars](https://devblogs.nvidia.com/parallelforall/deep-learning-self-driving-cars/) in the section Visualization of internal CNN State. NVIDIA was able to show that their network's inner weights had high activations to road boundary lines by comparing feature maps from an image with a clear path to one without. Try experimenting with a similar test to show that your trained network's weights are looking for interesting features, whether it's looking at differences in feature maps from images with or without a sign, or even what feature maps look like in a trained network vs a completely untrained one on the same sign image.\n",
    "\n",
    "<figure>\n",
    " <img src=\"visualize_cnn.png\" width=\"380\" alt=\"Combined Image\" />\n",
    " <figcaption>\n",
    " <p></p> \n",
    " <p style=\"text-align: center;\"> Your output should look something like this (above)</p> \n",
    " </figcaption>\n",
    "</figure>\n",
    " <p></p> \n"
   ]
  },
  {
   "cell_type": "code",
   "execution_count": null,
   "metadata": {},
   "outputs": [],
   "source": [
    "### Visualize your network's feature maps here.\n",
    "### Feel free to use as many code cells as needed.\n",
    "\n",
    "# image_input: the test image being fed into the network to produce the feature maps\n",
    "# tf_activation: should be a tf variable name used during your training procedure that represents the calculated state of a specific weight layer\n",
    "# activation_min/max: can be used to view the activation contrast in more detail, by default matplot sets min and max to the actual min and max values of the output\n",
    "# plt_num: used to plot out multiple different weight feature map sets on the same block, just extend the plt number for each new feature map entry\n",
    "\n",
    "def outputFeatureMap(image_input, tf_activation, activation_min=-1, activation_max=-1 ,plt_num=1):\n",
    "    # Here make sure to preprocess your image_input in a way your network expects\n",
    "    # with size, normalization, ect if needed\n",
    "    # image_input =\n",
    "    # Note: x should be the same name as your network's tensorflow data placeholder variable\n",
    "    # If you get an error tf_activation is not defined it may be having trouble accessing the variable from inside a function\n",
    "    activation = tf_activation.eval(session=sess,feed_dict={x : image_input})\n",
    "    featuremaps = activation.shape[3]\n",
    "    plt.figure(plt_num, figsize=(15,15))\n",
    "    for featuremap in range(featuremaps):\n",
    "        plt.subplot(6,8, featuremap+1) # sets the number of feature maps to show on each row and column\n",
    "        plt.title('FeatureMap ' + str(featuremap)) # displays the feature map number\n",
    "        if activation_min != -1 & activation_max != -1:\n",
    "            plt.imshow(activation[0,:,:, featuremap], interpolation=\"nearest\", vmin =activation_min, vmax=activation_max, cmap=\"gray\")\n",
    "        elif activation_max != -1:\n",
    "            plt.imshow(activation[0,:,:, featuremap], interpolation=\"nearest\", vmax=activation_max, cmap=\"gray\")\n",
    "        elif activation_min !=-1:\n",
    "            plt.imshow(activation[0,:,:, featuremap], interpolation=\"nearest\", vmin=activation_min, cmap=\"gray\")\n",
    "        else:\n",
    "            plt.imshow(activation[0,:,:, featuremap], interpolation=\"nearest\", cmap=\"gray\")"
   ]
  }
 ],
 "metadata": {
  "anaconda-cloud": {},
  "kernelspec": {
   "display_name": "Python 3",
   "language": "python",
   "name": "python3"
  },
  "language_info": {
   "codemirror_mode": {
    "name": "ipython",
    "version": 3
   },
   "file_extension": ".py",
   "mimetype": "text/x-python",
   "name": "python",
   "nbconvert_exporter": "python",
   "pygments_lexer": "ipython3",
   "version": "3.5.4"
  }
 },
 "nbformat": 4,
 "nbformat_minor": 1
}
